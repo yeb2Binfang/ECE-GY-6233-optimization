{
 "cells": [
  {
   "cell_type": "markdown",
   "metadata": {},
   "source": [
    "## Coding Problem\n",
    "Consider the entropy maximization problem,\n",
    "  \\begin{align*}\n",
    "    \\text{maximize} \\quad &  f_0(x)=-\\sum_{i=1}^n x_i\\log x_i\\\\\n",
    "    \\text{s.t.}\\quad  &  Ax \\preceq b \\\\\n",
    "    & \\mathbf{1}^Tx = 1\n",
    "  \\end{align*}\n",
    "  where $x\\in\\mathbf{R}^n$. $A\\in\\mathbf{R}^{p\\times n}$ and $b\\in\\mathbf{R}^p$ are provided in the code. \n",
    "  \n",
    "  "
   ]
  },
  {
   "cell_type": "code",
   "execution_count": null,
   "metadata": {},
   "outputs": [],
   "source": [
    "# Initialization\n",
    "import numpy as np\n",
    "\n",
    "np.random.seed(100)\n",
    "\n",
    "# Matrix size parameters.\n",
    "n = 20\n",
    "p = 5\n",
    "\n",
    "# Generate random problem data.\n",
    "A = np.random.uniform(0, 2, size=(p,n))\n",
    "b = 2*np.random.rand(p)\n"
   ]
  },
  {
   "cell_type": "markdown",
   "metadata": {},
   "source": [
    "Find the optimal solution of the problem using CVXPY. \\(The objective function can be formulated in CVXPY using entr.)"
   ]
  },
  {
   "cell_type": "code",
   "execution_count": null,
   "metadata": {},
   "outputs": [],
   "source": [
    "# Entropy maximization code\n",
    "\n"
   ]
  },
  {
   "cell_type": "markdown",
   "metadata": {},
   "source": [
    "Print your optimal solution $x^*$ and the optimal value of the objective function $f_0(x^*)$"
   ]
  },
  {
   "cell_type": "code",
   "execution_count": null,
   "metadata": {},
   "outputs": [],
   "source": [
    "# Print your results\n",
    "\n"
   ]
  }
 ],
 "metadata": {
  "kernelspec": {
   "display_name": "Python 3",
   "language": "python",
   "name": "python3"
  },
  "language_info": {
   "codemirror_mode": {
    "name": "ipython",
    "version": 3
   },
   "file_extension": ".py",
   "mimetype": "text/x-python",
   "name": "python",
   "nbconvert_exporter": "python",
   "pygments_lexer": "ipython3",
   "version": "3.8.5"
  }
 },
 "nbformat": 4,
 "nbformat_minor": 4
}
