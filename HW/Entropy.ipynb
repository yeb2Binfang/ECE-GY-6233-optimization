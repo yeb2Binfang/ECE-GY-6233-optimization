{
  "nbformat": 4,
  "nbformat_minor": 0,
  "metadata": {
    "kernelspec": {
      "display_name": "Python 3",
      "language": "python",
      "name": "python3"
    },
    "language_info": {
      "codemirror_mode": {
        "name": "ipython",
        "version": 3
      },
      "file_extension": ".py",
      "mimetype": "text/x-python",
      "name": "python",
      "nbconvert_exporter": "python",
      "pygments_lexer": "ipython3",
      "version": "3.8.5"
    },
    "colab": {
      "name": "Entropy.ipynb",
      "provenance": [],
      "include_colab_link": true
    }
  },
  "cells": [
    {
      "cell_type": "markdown",
      "metadata": {
        "id": "view-in-github",
        "colab_type": "text"
      },
      "source": [
        "<a href=\"https://colab.research.google.com/github/yeb2Binfang/ECE-GY-6233-optimization/blob/main/HW/Entropy.ipynb\" target=\"_parent\"><img src=\"https://colab.research.google.com/assets/colab-badge.svg\" alt=\"Open In Colab\"/></a>"
      ]
    },
    {
      "cell_type": "markdown",
      "metadata": {
        "id": "8pL1mgBeKm0F"
      },
      "source": [
        "## Coding Problem\n",
        "Consider the entropy maximization problem,\n",
        "  \\begin{align*}\n",
        "    \\text{maximize} \\quad &  f_0(x)=-\\sum_{i=1}^n x_i\\log x_i\\\\\n",
        "    \\text{s.t.}\\quad  &  Ax \\preceq b \\\\\n",
        "    & \\mathbf{1}^Tx = 1\n",
        "  \\end{align*}\n",
        "  where $x\\in\\mathbf{R}^n$. $A\\in\\mathbf{R}^{p\\times n}$ and $b\\in\\mathbf{R}^p$ are provided in the code. \n",
        "  \n",
        "  "
      ]
    },
    {
      "cell_type": "code",
      "metadata": {
        "id": "-PGVN5bJKm0J",
        "outputId": "68523da8-724d-410b-f9ba-f1b2c704abae",
        "colab": {
          "base_uri": "https://localhost:8080/"
        }
      },
      "source": [
        "# Initialization\n",
        "import numpy as np\n",
        "\n",
        "np.random.seed(100)\n",
        "\n",
        "# Matrix size parameters.\n",
        "n = 20\n",
        "p = 5\n",
        "\n",
        "# Generate random problem data.\n",
        "A = np.random.uniform(0, 2, size=(p,n))\n",
        "b = 2*np.random.rand(p)\n",
        "one = np.transpose(np.ones(n))\n",
        "print(A)\n",
        "print(b)"
      ],
      "execution_count": 17,
      "outputs": [
        {
          "output_type": "stream",
          "name": "stdout",
          "text": [
            "[[1.08680988 0.55673877 0.84903518 1.68955226 0.00943771 0.24313824\n",
            "  1.34149817 1.65170551 0.27341318 1.15018666 1.78264391 0.41840424\n",
            "  0.37065644 0.21675378 0.43939499 1.95724757 1.6233663  0.34388203\n",
            "  1.6324495  0.54814749]\n",
            " [0.86340837 1.88005964 1.63529876 0.6722239  0.35082091 0.74566409\n",
            "  0.01137701 0.50485271 1.59132502 0.03050994 1.19768675 1.20760908\n",
            "  0.21029537 0.76388689 0.07295211 1.78082313 1.96184171 0.11988398\n",
            "  1.78109189 1.153803  ]\n",
            " [1.48495938 1.26036787 1.16368438 0.04087826 0.42005316 1.08936976\n",
            "  1.53823034 0.50139046 0.57179138 1.70479018 1.95001299 1.76970659\n",
            "  0.71901569 1.19771789 0.70959122 0.68038043 0.35616198 0.47538842\n",
            "  0.08972456 1.01086286]\n",
            " [0.75250491 1.1856108  1.25988375 0.28520063 1.8676826  1.89275976\n",
            "  1.20459332 0.77553256 0.72637601 0.40869055 0.55353012 0.49307176\n",
            "  0.347216   1.93321939 1.9140252  1.19594737 1.46260151 0.68077045\n",
            "  0.18411121 0.92699604]\n",
            " [1.01739779 0.17692035 1.05607045 1.98431607 0.79007186 0.67119288\n",
            "  1.61090107 1.50869799 0.62613288 1.26807337 1.08080915 0.5935875\n",
            "  0.2215758  0.6252806  0.91395826 1.31788014 0.50851504 1.28220252\n",
            "  0.40024721 1.31524961]]\n",
            "[1.55657843 1.5591968  1.22065631 0.6180007  1.39546982]\n"
          ]
        }
      ]
    },
    {
      "cell_type": "markdown",
      "metadata": {
        "id": "LaesKDMtKm0M"
      },
      "source": [
        "Find the optimal solution of the problem using CVXPY. \\(The objective function can be formulated in CVXPY using entr.)"
      ]
    },
    {
      "cell_type": "code",
      "metadata": {
        "id": "wO6F6Zj2Km0N",
        "outputId": "523c27e3-f8ef-4962-92da-c8f6bf828285",
        "colab": {
          "base_uri": "https://localhost:8080/"
        }
      },
      "source": [
        "# Entropy maximization code\n",
        "import cvxpy as cp\n",
        "\n",
        "x = cp.Variable(shape=n)\n",
        "obj = cp.Maximize(cp.sum(cp.entr(x)))\n",
        "constraints = [one * x==1, A * x<=b]\n",
        "prob = cp.Problem(obj, constraints)\n",
        "prob.solve()\n"
      ],
      "execution_count": 21,
      "outputs": [
        {
          "output_type": "execute_result",
          "data": {
            "text/plain": [
              "2.7236116466419182"
            ]
          },
          "metadata": {},
          "execution_count": 21
        }
      ]
    },
    {
      "cell_type": "markdown",
      "metadata": {
        "id": "-sNl8fLrKm0O"
      },
      "source": [
        "Print your optimal solution $x^*$ and the optimal value of the objective function $f_0(x^*)$"
      ]
    },
    {
      "cell_type": "code",
      "metadata": {
        "id": "tYH15-iYKm0O",
        "outputId": "a5cedf4f-fb35-4fb2-d40f-7b5a83317641",
        "colab": {
          "base_uri": "https://localhost:8080/"
        }
      },
      "source": [
        "# Print your results\n",
        "print('\\nThe optimal solution is:', x.value)\n",
        "print(\"\\nThe optimal value is:\", prob.value)\n"
      ],
      "execution_count": 24,
      "outputs": [
        {
          "output_type": "stream",
          "name": "stdout",
          "text": [
            "\n",
            "The optimal solution is: [0.05295172 0.02651843 0.02355288 0.11166753 0.00892428 0.008574\n",
            " 0.02572673 0.05104014 0.05520759 0.09168414 0.07275399 0.0801274\n",
            " 0.10114002 0.00803762 0.00828776 0.02608435 0.01704009 0.05937773\n",
            " 0.1312279  0.04007571]\n",
            "\n",
            "The optimal value is: 2.7236116466419182\n"
          ]
        }
      ]
    },
    {
      "cell_type": "code",
      "metadata": {
        "id": "KrIpFDH5OZWj"
      },
      "source": [
        ""
      ],
      "execution_count": null,
      "outputs": []
    }
  ]
}