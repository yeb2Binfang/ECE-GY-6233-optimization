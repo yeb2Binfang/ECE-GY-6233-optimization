{
  "nbformat": 4,
  "nbformat_minor": 0,
  "metadata": {
    "kernelspec": {
      "display_name": "Python 3",
      "language": "python",
      "name": "python3"
    },
    "language_info": {
      "codemirror_mode": {
        "name": "ipython",
        "version": 3
      },
      "file_extension": ".py",
      "mimetype": "text/x-python",
      "name": "python",
      "nbconvert_exporter": "python",
      "pygments_lexer": "ipython3",
      "version": "3.8.5"
    },
    "colab": {
      "name": "LR.ipynb",
      "provenance": [],
      "include_colab_link": true
    }
  },
  "cells": [
    {
      "cell_type": "markdown",
      "metadata": {
        "id": "view-in-github",
        "colab_type": "text"
      },
      "source": [
        "<a href=\"https://colab.research.google.com/github/yeb2Binfang/ECE-GY-6233-optimization/blob/main/HW/LR.ipynb\" target=\"_parent\"><img src=\"https://colab.research.google.com/assets/colab-badge.svg\" alt=\"Open In Colab\"/></a>"
      ]
    },
    {
      "cell_type": "markdown",
      "metadata": {
        "id": "c3eiV0e2kkor"
      },
      "source": [
        "## Coding Problem\n",
        "<br>\n",
        "In this problem you will analyze data using the linear regression. The goal of the problem is to predict the miles per gallon a car will get using six quantities (features) about that car. The data is broken into training and testing sets. Each row in both “X” files contain six features for a single car (plus a 1 in the last dimension) and the same row in the corresponding “y” file contains the miles per gallon for that car.\n",
        "<br>\n"
      ]
    },
    {
      "cell_type": "markdown",
      "metadata": {
        "id": "uj9TfGwukkow"
      },
      "source": [
        "See https://archive.ics.uci.edu/ml/datasets/Auto+MPG for more details on this dataset. We will use the 2nd to 7th features to predict the 1st attribute in the data set. The data has been preprocessed, thus you must use the data provided with this homework."
      ]
    },
    {
      "cell_type": "markdown",
      "metadata": {
        "id": "cNLAl59Tkkox"
      },
      "source": [
        "### Training Part\n",
        "\n",
        "Using the training data only, write code to solve the linear regression problem\n",
        "\n",
        "$$\n",
        "\\min_{\\omega} \\mathcal{L}=\t\\sum_{i=1}^{N_{train}}\\|y_i-x_i\\omega\\|^2=(Y-X\\omega)^T(Y-X\\omega)\n",
        "$$"
      ]
    },
    {
      "cell_type": "code",
      "metadata": {
        "id": "JSofZkzBkkoy",
        "colab": {
          "base_uri": "https://localhost:8080/",
          "height": 203
        },
        "outputId": "d39ae255-d7b8-463f-c91b-90e00fffd9ef"
      },
      "source": [
        "# Load training data from X_train.csv and Y_train.csv\n",
        "import pandas as pd\n",
        "X_train_url = 'https://raw.githubusercontent.com/yeb2Binfang/ECE-GY-6233-optimization/main/HW/X_train.csv'\n",
        "y_train_url = 'https://raw.githubusercontent.com/yeb2Binfang/ECE-GY-6233-optimization/main/HW/y_train.csv'\n",
        "\n",
        "df_X_train = pd.read_csv(X_train_url, header=None)\n",
        "df_y_train = pd.read_csv(y_train_url, header=None)\n",
        "df_X_train.head()\n"
      ],
      "execution_count": null,
      "outputs": [
        {
          "output_type": "execute_result",
          "data": {
            "text/html": [
              "<div>\n",
              "<style scoped>\n",
              "    .dataframe tbody tr th:only-of-type {\n",
              "        vertical-align: middle;\n",
              "    }\n",
              "\n",
              "    .dataframe tbody tr th {\n",
              "        vertical-align: top;\n",
              "    }\n",
              "\n",
              "    .dataframe thead th {\n",
              "        text-align: right;\n",
              "    }\n",
              "</style>\n",
              "<table border=\"1\" class=\"dataframe\">\n",
              "  <thead>\n",
              "    <tr style=\"text-align: right;\">\n",
              "      <th></th>\n",
              "      <th>0</th>\n",
              "      <th>1</th>\n",
              "      <th>2</th>\n",
              "      <th>3</th>\n",
              "      <th>4</th>\n",
              "      <th>5</th>\n",
              "      <th>6</th>\n",
              "    </tr>\n",
              "  </thead>\n",
              "  <tbody>\n",
              "    <tr>\n",
              "      <th>0</th>\n",
              "      <td>0.30957</td>\n",
              "      <td>-0.36707</td>\n",
              "      <td>0.45545</td>\n",
              "      <td>-0.200830</td>\n",
              "      <td>-0.73992</td>\n",
              "      <td>-0.80885</td>\n",
              "      <td>1</td>\n",
              "    </tr>\n",
              "    <tr>\n",
              "      <th>1</th>\n",
              "      <td>0.30957</td>\n",
              "      <td>0.35920</td>\n",
              "      <td>-0.11611</td>\n",
              "      <td>-0.038361</td>\n",
              "      <td>0.16625</td>\n",
              "      <td>-0.80885</td>\n",
              "      <td>1</td>\n",
              "    </tr>\n",
              "    <tr>\n",
              "      <th>2</th>\n",
              "      <td>-0.86291</td>\n",
              "      <td>-0.99778</td>\n",
              "      <td>-0.89551</td>\n",
              "      <td>-1.225100</td>\n",
              "      <td>-0.55868</td>\n",
              "      <td>-0.26592</td>\n",
              "      <td>1</td>\n",
              "    </tr>\n",
              "    <tr>\n",
              "      <th>3</th>\n",
              "      <td>-0.86291</td>\n",
              "      <td>-0.69198</td>\n",
              "      <td>-0.42787</td>\n",
              "      <td>-0.562260</td>\n",
              "      <td>-0.15997</td>\n",
              "      <td>1.09140</td>\n",
              "      <td>1</td>\n",
              "    </tr>\n",
              "    <tr>\n",
              "      <th>4</th>\n",
              "      <td>-0.86291</td>\n",
              "      <td>-0.92133</td>\n",
              "      <td>-0.63571</td>\n",
              "      <td>-1.251000</td>\n",
              "      <td>-0.41369</td>\n",
              "      <td>0.81993</td>\n",
              "      <td>1</td>\n",
              "    </tr>\n",
              "  </tbody>\n",
              "</table>\n",
              "</div>"
            ],
            "text/plain": [
              "         0        1        2         3        4        5  6\n",
              "0  0.30957 -0.36707  0.45545 -0.200830 -0.73992 -0.80885  1\n",
              "1  0.30957  0.35920 -0.11611 -0.038361  0.16625 -0.80885  1\n",
              "2 -0.86291 -0.99778 -0.89551 -1.225100 -0.55868 -0.26592  1\n",
              "3 -0.86291 -0.69198 -0.42787 -0.562260 -0.15997  1.09140  1\n",
              "4 -0.86291 -0.92133 -0.63571 -1.251000 -0.41369  0.81993  1"
            ]
          },
          "metadata": {},
          "execution_count": 6
        }
      ]
    },
    {
      "cell_type": "markdown",
      "metadata": {
        "id": "M1K8Vw59msQ7"
      },
      "source": [
        "$$\n",
        "\\begin{gathered}\n",
        "\\mathop{min}\\limits_{\\omega} \\mathcal{L}=\\sum_{i=1}^{N_{train}}||x_i\\omega-y_i||^2\\\\\n",
        "=(X\\omega-Y)^T(X\\omega-Y)\\\\\n",
        "=\\omega^TX^TX\\omega-\\omega^TX^TY-Y^TX\\omega+Y^TY\\\\\n",
        "=\\omega^TX^TX\\omega-2Y^TX\\omega+Y^TY\n",
        "\\end{gathered}\n",
        "$$\n",
        "\n",
        "We let $f(\\omega)=\\omega^TX^TX\\omega-2Y^TX\\omega+Y^TY$. We take the derivative, then we can get\n",
        "\n",
        "$$\n",
        "\\begin{gathered}\n",
        "\\triangledown_{\\omega}f(\\omega)=\\frac{\\partial}{\\partial \\omega}(\\omega^TX^TX\\omega-2Y^TX\\omega+Y^TY)=0\\\\\n",
        "=(X^TX+X^TX)\\omega-2(Y^TX)^T\\\\\n",
        "=2X^TX\\omega - 2X^TY=0\\\\\n",
        "\\downarrow \\\\\n",
        "\\omega =(X^TX)^{-1}X^TY\n",
        "\\end{gathered}\n",
        "$$\n",
        "\n"
      ]
    },
    {
      "cell_type": "code",
      "metadata": {
        "id": "vXw0Igghkkoz",
        "colab": {
          "base_uri": "https://localhost:8080/"
        },
        "outputId": "4104138b-51a4-42fb-a9bc-45cdcac74efe"
      },
      "source": [
        "# Compute the vector omega and print your result\n",
        "import numpy as np\n",
        "\n",
        "X_train = df_X_train.to_numpy()\n",
        "y_train = df_y_train.to_numpy()\n",
        "w = np.linalg.inv(np.transpose(X_train).dot(X_train)).dot(np.transpose(X_train)).dot(y_train)\n",
        "print(w)\n"
      ],
      "execution_count": null,
      "outputs": [
        {
          "output_type": "stream",
          "name": "stdout",
          "text": [
            "[[-0.45626139]\n",
            " [ 0.7301673 ]\n",
            " [-0.28461867]\n",
            " [-5.58558944]\n",
            " [ 0.28957774]\n",
            " [ 2.78139798]\n",
            " [ 0.01015709]]\n"
          ]
        }
      ]
    },
    {
      "cell_type": "markdown",
      "metadata": {
        "id": "A6g72qUrkko0"
      },
      "source": [
        "<br>\n",
        "3. By learning the vector $\\omega$, we an predict the value $y_i$ in the testing set using $x_i$, as\n",
        "<br>\n",
        "\\begin{align*}\n",
        "    y^{pred}_i = \\omega_1 x_{i1} + \\omega_2 x_{i2} + \\dots + \\omega_6 x_{i6} + \\omega_0= x_i\\omega\n",
        "\\end{align*}\n",
        "\n",
        "Using only the testing data. Compute the root mean squared error (RMSE) between the predicted value $y^{pred}$ and the real value $y^{test}$.\n",
        "\n",
        "$$\n",
        "RMSE = \\sqrt{\\frac{1}{N_{test}}\\sum_{i=1}^{N_{test}}(y_i^{pred}-y_i^{test})}\n",
        "$$\n"
      ]
    },
    {
      "cell_type": "code",
      "metadata": {
        "id": "wKMz4jsWkko1",
        "colab": {
          "base_uri": "https://localhost:8080/",
          "height": 203
        },
        "outputId": "735b39d3-272f-428b-ea9a-ca71565a97f6"
      },
      "source": [
        "# Load testing data from X_test.csv and Y_test.csv\n",
        "X_test_url = 'https://raw.githubusercontent.com/yeb2Binfang/ECE-GY-6233-optimization/main/HW/X_test.csv'\n",
        "y_test_url = 'https://raw.githubusercontent.com/yeb2Binfang/ECE-GY-6233-optimization/main/HW/y_test.csv'\n",
        "\n",
        "df_X_test = pd.read_csv(X_test_url, header=None)\n",
        "df_y_test = pd.read_csv(y_test_url, header=None)\n",
        "df_X_test.head()\n"
      ],
      "execution_count": null,
      "outputs": [
        {
          "output_type": "execute_result",
          "data": {
            "text/html": [
              "<div>\n",
              "<style scoped>\n",
              "    .dataframe tbody tr th:only-of-type {\n",
              "        vertical-align: middle;\n",
              "    }\n",
              "\n",
              "    .dataframe tbody tr th {\n",
              "        vertical-align: top;\n",
              "    }\n",
              "\n",
              "    .dataframe thead th {\n",
              "        text-align: right;\n",
              "    }\n",
              "</style>\n",
              "<table border=\"1\" class=\"dataframe\">\n",
              "  <thead>\n",
              "    <tr style=\"text-align: right;\">\n",
              "      <th></th>\n",
              "      <th>0</th>\n",
              "      <th>1</th>\n",
              "      <th>2</th>\n",
              "      <th>3</th>\n",
              "      <th>4</th>\n",
              "      <th>5</th>\n",
              "      <th>6</th>\n",
              "    </tr>\n",
              "  </thead>\n",
              "  <tbody>\n",
              "    <tr>\n",
              "      <th>0</th>\n",
              "      <td>0.30957</td>\n",
              "      <td>0.34964</td>\n",
              "      <td>0.013785</td>\n",
              "      <td>0.52674</td>\n",
              "      <td>0.49248</td>\n",
              "      <td>0.27700</td>\n",
              "      <td>1</td>\n",
              "    </tr>\n",
              "    <tr>\n",
              "      <th>1</th>\n",
              "      <td>1.48210</td>\n",
              "      <td>1.48680</td>\n",
              "      <td>1.572600</td>\n",
              "      <td>0.84226</td>\n",
              "      <td>-1.46490</td>\n",
              "      <td>-1.62320</td>\n",
              "      <td>1</td>\n",
              "    </tr>\n",
              "    <tr>\n",
              "      <th>2</th>\n",
              "      <td>-0.86291</td>\n",
              "      <td>-0.71110</td>\n",
              "      <td>-0.661690</td>\n",
              "      <td>-0.41510</td>\n",
              "      <td>1.10870</td>\n",
              "      <td>1.63430</td>\n",
              "      <td>1</td>\n",
              "    </tr>\n",
              "    <tr>\n",
              "      <th>3</th>\n",
              "      <td>0.30957</td>\n",
              "      <td>0.53121</td>\n",
              "      <td>-0.116110</td>\n",
              "      <td>0.94586</td>\n",
              "      <td>0.52872</td>\n",
              "      <td>-0.53739</td>\n",
              "      <td>1</td>\n",
              "    </tr>\n",
              "    <tr>\n",
              "      <th>4</th>\n",
              "      <td>1.48210</td>\n",
              "      <td>1.02810</td>\n",
              "      <td>0.897110</td>\n",
              "      <td>0.26774</td>\n",
              "      <td>-1.57360</td>\n",
              "      <td>0.54847</td>\n",
              "      <td>1</td>\n",
              "    </tr>\n",
              "  </tbody>\n",
              "</table>\n",
              "</div>"
            ],
            "text/plain": [
              "         0        1         2        3        4        5  6\n",
              "0  0.30957  0.34964  0.013785  0.52674  0.49248  0.27700  1\n",
              "1  1.48210  1.48680  1.572600  0.84226 -1.46490 -1.62320  1\n",
              "2 -0.86291 -0.71110 -0.661690 -0.41510  1.10870  1.63430  1\n",
              "3  0.30957  0.53121 -0.116110  0.94586  0.52872 -0.53739  1\n",
              "4  1.48210  1.02810  0.897110  0.26774 -1.57360  0.54847  1"
            ]
          },
          "metadata": {},
          "execution_count": 19
        }
      ]
    },
    {
      "cell_type": "code",
      "metadata": {
        "id": "jf8CPvHNkko3",
        "colab": {
          "base_uri": "https://localhost:8080/"
        },
        "outputId": "5bb427ab-3a4e-4348-882f-52556fe24e2a"
      },
      "source": [
        "# Compute the RMSE and print the result\n",
        "X_test = df_X_test.to_numpy()\n",
        "y_test = df_y_test.to_numpy()\n",
        "y_pred = X_test.dot(w)\n",
        "RMSE = np.sqrt(np.sum((y_pred-y_test)**2)/len(y_test))\n",
        "print(RMSE)"
      ],
      "execution_count": null,
      "outputs": [
        {
          "output_type": "stream",
          "name": "stdout",
          "text": [
            "2.633643577969158\n"
          ]
        }
      ]
    },
    {
      "cell_type": "code",
      "metadata": {
        "id": "QdKE3y41rLf_"
      },
      "source": [
        ""
      ],
      "execution_count": null,
      "outputs": []
    }
  ]
}