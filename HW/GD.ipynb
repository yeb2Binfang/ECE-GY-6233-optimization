{
  "nbformat": 4,
  "nbformat_minor": 0,
  "metadata": {
    "kernelspec": {
      "display_name": "Python 3",
      "language": "python",
      "name": "python3"
    },
    "language_info": {
      "codemirror_mode": {
        "name": "ipython",
        "version": 3
      },
      "file_extension": ".py",
      "mimetype": "text/x-python",
      "name": "python",
      "nbconvert_exporter": "python",
      "pygments_lexer": "ipython3",
      "version": "3.8.5"
    },
    "colab": {
      "name": "GD.ipynb",
      "provenance": [],
      "include_colab_link": true
    }
  },
  "cells": [
    {
      "cell_type": "markdown",
      "metadata": {
        "id": "view-in-github",
        "colab_type": "text"
      },
      "source": [
        "<a href=\"https://colab.research.google.com/github/yeb2Binfang/ECE-GY-6233-optimization/blob/main/HW/GD.ipynb\" target=\"_parent\"><img src=\"https://colab.research.google.com/assets/colab-badge.svg\" alt=\"Open In Colab\"/></a>"
      ]
    },
    {
      "cell_type": "markdown",
      "metadata": {
        "id": "dUsKMIP_cszi"
      },
      "source": [
        "## Coding Problem\n",
        "<br>\n",
        "Consider the following unconstrained minimization problem\n",
        "$$\n",
        "\\min_{x\\in R^3} f(x) = \\frac{1}{2}x^T Ax + x^T b\n",
        "$$\n",
        "where $A$ and $b$ are defined as\n",
        "$$\n",
        "A = \\begin{bmatrix}\n",
        "2 & -1 & 0\\\\\n",
        "-1 & 2 & -1\\\\\n",
        "0 & -1 & 2\n",
        "\\end{bmatrix}\n",
        "\\qquad \n",
        "b = \\begin{bmatrix}\n",
        "1\\\\ 1\\\\ 1\n",
        "\\end{bmatrix}\n",
        "$$\n",
        "\n",
        "<br>\n",
        "\n"
      ]
    },
    {
      "cell_type": "markdown",
      "metadata": {
        "id": "HitT6H4Kc1J-"
      },
      "source": [
        "1. Determine whether the matrix $A$ is positive definite and find the minimum of $f$​​ if exists."
      ]
    },
    {
      "cell_type": "markdown",
      "metadata": {
        "id": "oOcVrH0fcszl"
      },
      "source": [
        "2. Implement the gradient descent method with backtracking line search starting with $x_0=[1,1,1]^T$. Let the maximum iteration number be $50$, $\\alpha=0.25$ and $\\beta=0.1$. Record the function value of each iteration and plot it (x-axis: number of iterations / y-axis: function value of that iteration). </br>"
      ]
    },
    {
      "cell_type": "code",
      "metadata": {
        "id": "-3a5JatKFcsn"
      },
      "source": [
        "def obj(x,A,b):\n",
        "  f = 0.5 * x.T.dot(A).dot(x)+b.T.dot(x)\n",
        "  return f\n",
        "\n",
        "def obj_grad(x,A,b):\n",
        "  f_grad = A.dot(x) + b\n",
        "  return f_grad"
      ],
      "execution_count": 1,
      "outputs": []
    },
    {
      "cell_type": "markdown",
      "metadata": {
        "id": "-JEosjGhl0I7"
      },
      "source": [
        "The backtracking line search\n",
        "\n",
        "if \n",
        "\n",
        "$$\n",
        "f(x+t\\triangle x)>f(x)+\\alpha t \\triangledown f(x)^T \\triangle x\n",
        "$$\n",
        "\n",
        "then we need to update $t$, $t=\\beta \\times t$\n",
        "\n",
        "\n"
      ]
    },
    {
      "cell_type": "code",
      "metadata": {
        "id": "MNSIUSWPcszo"
      },
      "source": [
        "# Code goes here\n",
        "\n",
        "def backtracking(x, A, b, alpha, beta, t, maxIter):\n",
        "  val = []\n",
        "  it = 1\n",
        "  while it<=maxIter:\n",
        "    it+=1\n",
        "    grad = obj_grad(x, A, b)\n",
        "    delta_x = -grad\n",
        "    left = obj(x + t * delta_x, A, b)\n",
        "    right = obj(x, A, b) + alpha * t * grad.T.dot(delta_x)\n",
        "    #print(grad.T.dot(grad))\n",
        "    while left > right:\n",
        "      t = beta * t   \n",
        "      left = obj(x + t*delta_x, A, b)\n",
        "      right = obj(x, A, b) + alpha * t * grad.T.dot(delta_x)\n",
        "    x = x - t*grad\n",
        "    val.append(obj(x,A, b))\n",
        "  return val\n"
      ],
      "execution_count": 3,
      "outputs": []
    },
    {
      "cell_type": "code",
      "metadata": {
        "id": "x1BQUi_4W2Z7"
      },
      "source": [
        "import numpy as np\n",
        "A = np.array([[2,-1,0],[-1,2,-1],[0,-1,2]])\n",
        "b = np.ones(3)\n",
        "alpha = 0.25\n",
        "beta = 0.1\n",
        "t=1\n",
        "x=np.ones(3)\n",
        "maxIter = 50\n",
        "val = backtracking(x, A, b, alpha, beta, t, maxIter)"
      ],
      "execution_count": 4,
      "outputs": []
    },
    {
      "cell_type": "code",
      "metadata": {
        "id": "WWU_p8JRcszr",
        "colab": {
          "base_uri": "https://localhost:8080/",
          "height": 312
        },
        "outputId": "486f2d94-eea3-44ed-9dcb-e80b693a00bd"
      },
      "source": [
        "# Plot the function value each iteration\n",
        "import matplotlib.pyplot as plt\n",
        "x_axis = np.arange(1,51,1)\n",
        "plt.plot(x_axis,val)\n",
        "plt.xlabel(\"iteration\")\n",
        "plt.ylabel(\"f(x)\")\n",
        "plt.title(\"batracking line search\")\n",
        "plt.legend(['beta=0.1'])\n"
      ],
      "execution_count": 5,
      "outputs": [
        {
          "output_type": "execute_result",
          "data": {
            "text/plain": [
              "<matplotlib.legend.Legend at 0x7fbe0f59b350>"
            ]
          },
          "metadata": {},
          "execution_count": 5
        },
        {
          "output_type": "display_data",
          "data": {
            "image/png": "[encoded data removed]",
            "text/plain": [
              "<Figure size 432x288 with 1 Axes>"
            ]
          },
          "metadata": {
            "needs_background": "light"
          }
        }
      ]
    },
    {
      "cell_type": "markdown",
      "metadata": {
        "id": "I7KeH6IUcszs"
      },
      "source": [
        "3. Change the learning rate to $\\beta=0.3$ and $\\beta=0.8$, repeate the process in (2) and plot the function values. Comment on how the learning rate will affect the gradient descent method."
      ]
    },
    {
      "cell_type": "code",
      "metadata": {
        "id": "ufrmo1HKcszt"
      },
      "source": [
        "# Code goes here\n",
        "A = np.array([[2,-1,0],[-1,2,-1],[0,-1,2]])\n",
        "alpha = 0.25\n",
        "beta_1 = 0.3\n",
        "beta_2 = 0.8\n",
        "t=1\n",
        "x=np.ones(3)\n",
        "maxIter = 50\n",
        "val_1 = backtracking(x, A, b, alpha, beta_1, t, maxIter)\n",
        "val_2 = backtracking(x, A, b, alpha, beta_2, t, maxIter)\n"
      ],
      "execution_count": 6,
      "outputs": []
    },
    {
      "cell_type": "code",
      "metadata": {
        "id": "CPnS-Jztcszu",
        "colab": {
          "base_uri": "https://localhost:8080/",
          "height": 312
        },
        "outputId": "d22c02d2-0b77-4432-a284-d1f33f9a4272"
      },
      "source": [
        "# Plot the function value each iteration (for different beta)\n",
        "x_axis = np.arange(1,51,1)\n",
        "plt.plot(x_axis,val)\n",
        "plt.plot(x_axis,val_1)\n",
        "plt.plot(x_axis,val_2)\n",
        "plt.xlabel(\"iteration\")\n",
        "plt.ylabel(\"f(x)\")\n",
        "plt.title(\"batracking line search\")\n",
        "plt.legend(['beta=0.1','beta=0.3','beta=0.8'])"
      ],
      "execution_count": 7,
      "outputs": [
        {
          "output_type": "execute_result",
          "data": {
            "text/plain": [
              "<matplotlib.legend.Legend at 0x7fbe0f083ad0>"
            ]
          },
          "metadata": {},
          "execution_count": 7
        },
        {
          "output_type": "display_data",
          "data": {
            "image/png": "[encoded data removed]",
            "text/plain": [
              "<Figure size 432x288 with 1 Axes>"
            ]
          },
          "metadata": {
            "needs_background": "light"
          }
        }
      ]
    },
    {
      "cell_type": "code",
      "metadata": {
        "id": "29DzG2pqe-ZG"
      },
      "source": [
        ""
      ],
      "execution_count": null,
      "outputs": []
    }
  ]
}